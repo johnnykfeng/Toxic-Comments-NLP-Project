{
 "cells": [
  {
   "cell_type": "code",
   "execution_count": 1,
   "metadata": {},
   "outputs": [],
   "source": [
    "import numpy as np\n",
    "import matplotlib.pyplot as plt\n",
    "import seaborn as sns\n",
    "import pandas as pd"
   ]
  },
  {
   "cell_type": "code",
   "execution_count": 59,
   "metadata": {},
   "outputs": [
    {
     "name": "stdout",
     "output_type": "stream",
     "text": [
      "accuracy             0.971097\n",
      "balanced_accuracy    0.675621\n",
      "precision            0.422944\n",
      "recall               0.363134\n",
      "f1                   0.388930\n",
      "neg_log_loss        -0.281269\n",
      "dtype: float64\n",
      "accuracy             0.897816\n",
      "balanced_accuracy    0.897830\n",
      "precision            0.917690\n",
      "recall               0.874108\n",
      "f1                   0.894913\n",
      "neg_log_loss        -0.686061\n",
      "dtype: float64\n",
      "accuracy             0.890542\n",
      "balanced_accuracy    0.890696\n",
      "precision            0.971571\n",
      "recall               0.804450\n",
      "f1                   0.876733\n",
      "neg_log_loss        -0.328194\n",
      "dtype: float64\n",
      "                   Original       RUS     SMOTE\n",
      "accuracy           0.971097  0.897816  0.890542\n",
      "balanced_accuracy  0.675621  0.897830  0.890696\n",
      "precision          0.422944  0.917690  0.971571\n",
      "recall             0.363134  0.874108  0.804450\n",
      "f1                 0.388930  0.894913  0.876733\n",
      "neg_log_loss      -0.281269 -0.686061 -0.328194\n"
     ]
    }
   ],
   "source": [
    "NB_imb = pd.read_csv('scores_csv/scores_NB_imbalanced.csv', index_col=[0])\n",
    "nb_imb_mean = NB_imb.mean(axis=1)\n",
    "print(nb_imb_mean)\n",
    "\n",
    "NB_rus = pd.read_csv('scores_csv/scores_NB_rus.csv', index_col=[0])\n",
    "nb_rus_mean = NB_rus.mean(axis=1)\n",
    "print(nb_rus_mean)\n",
    "\n",
    "NB_smote = pd.read_csv('scores_csv/scores_NB_smote.csv', index_col=[0])\n",
    "nb_smote_mean = NB_smote.mean(axis=1)\n",
    "print(nb_smote_mean)\n",
    "\n",
    "nb_mean_df = pd.concat([nb_imb_mean, nb_rus_mean, nb_smote_mean], axis=1)\n",
    "nb_mean_df.columns = ['Original', 'RUS', 'SMOTE']\n",
    "print(nb_mean_df)"
   ]
  },
  {
   "cell_type": "code",
   "execution_count": 76,
   "metadata": {},
   "outputs": [
    {
     "name": "stdout",
     "output_type": "stream",
     "text": [
      "          balanced_accuracy        f1\n",
      "Original           0.675621  0.388930\n",
      "RUS                0.897830  0.894913\n",
      "SMOTE              0.890696  0.876733\n"
     ]
    },
    {
     "data": {
      "text/html": [
       "<div>\n",
       "<style scoped>\n",
       "    .dataframe tbody tr th:only-of-type {\n",
       "        vertical-align: middle;\n",
       "    }\n",
       "\n",
       "    .dataframe tbody tr th {\n",
       "        vertical-align: top;\n",
       "    }\n",
       "\n",
       "    .dataframe thead th {\n",
       "        text-align: right;\n",
       "    }\n",
       "</style>\n",
       "<table border=\"1\" class=\"dataframe\">\n",
       "  <thead>\n",
       "    <tr style=\"text-align: right;\">\n",
       "      <th></th>\n",
       "      <th>Original</th>\n",
       "      <th>RUS</th>\n",
       "      <th>SMOTE</th>\n",
       "    </tr>\n",
       "  </thead>\n",
       "  <tbody>\n",
       "    <tr>\n",
       "      <th>balanced_accuracy</th>\n",
       "      <td>0.676</td>\n",
       "      <td>0.898</td>\n",
       "      <td>0.891</td>\n",
       "    </tr>\n",
       "    <tr>\n",
       "      <th>f1</th>\n",
       "      <td>0.389</td>\n",
       "      <td>0.895</td>\n",
       "      <td>0.877</td>\n",
       "    </tr>\n",
       "  </tbody>\n",
       "</table>\n",
       "</div>"
      ],
      "text/plain": [
       "                   Original    RUS  SMOTE\n",
       "balanced_accuracy     0.676  0.898  0.891\n",
       "f1                    0.389  0.895  0.877"
      ]
     },
     "metadata": {},
     "output_type": "display_data"
    },
    {
     "data": {
      "image/png": "[encoded data removed]",
      "text/plain": [
       "<Figure size 640x480 with 1 Axes>"
      ]
     },
     "metadata": {},
     "output_type": "display_data"
    }
   ],
   "source": [
    "df_plot = nb_mean_df.iloc[[1,4]]\n",
    "print(df_plot.T)\n",
    "display(np.round(df_plot,3))\n",
    "\n",
    "fig, ax = plt.subplots()\n",
    "\n",
    "df_plot.plot.bar(rot=0, ax=ax)\n",
    "ax.legend(loc= 'upper left')\n",
    "ax.grid(alpha=0.6)\n",
    "plt.show()\n",
    "\n",
    "df_plot.reset_index(inplace=True)\n",
    "\n",
    "# sns.barplot(data = df_plot)"
   ]
  },
  {
   "cell_type": "code",
   "execution_count": 77,
   "metadata": {},
   "outputs": [
    {
     "name": "stdout",
     "output_type": "stream",
     "text": [
      "                   Original       RUS     SMOTE\n",
      "accuracy           0.979571  0.911811  0.955454\n",
      "balanced_accuracy  0.701550  0.911623  0.955453\n",
      "precision          0.635449  0.939029  0.930319\n",
      "recall             0.408564  0.881478  0.984983\n",
      "f1                 0.489670  0.909142  0.956831\n",
      "neg_log_loss      -0.085810 -0.280026 -0.150859\n"
     ]
    }
   ],
   "source": [
    "LR_imb = pd.read_csv('scores_csv/scores_LR_imbalanced.csv', index_col=[0])\n",
    "lr_imb_mean = LR_imb.mean(axis=1)\n",
    "# print(lr_imb_mean)\n",
    "\n",
    "LR_rus = pd.read_csv('scores_csv/scores_LR_rus.csv', index_col=[0])\n",
    "lr_rus_mean = LR_rus.mean(axis=1)\n",
    "# print(lr_rus_mean)\n",
    "\n",
    "LR_smote = pd.read_csv('scores_csv/scores_LR_smote.csv', index_col=[0])\n",
    "lr_smote_mean = LR_smote.mean(axis=1)\n",
    "# print(lr_smote_mean)\n",
    "\n",
    "lr_mean_df = pd.concat([lr_imb_mean, lr_rus_mean, lr_smote_mean], axis=1)\n",
    "lr_mean_df.columns = ['Original', 'RUS', 'SMOTE']\n",
    "print(lr_mean_df)"
   ]
  },
  {
   "cell_type": "code",
   "execution_count": 80,
   "metadata": {},
   "outputs": [
    {
     "name": "stdout",
     "output_type": "stream",
     "text": [
      "          balanced_accuracy        f1\n",
      "Original           0.701550  0.489670\n",
      "RUS                0.911623  0.909142\n",
      "SMOTE              0.955453  0.956831\n"
     ]
    },
    {
     "data": {
      "text/html": [
       "<div>\n",
       "<style scoped>\n",
       "    .dataframe tbody tr th:only-of-type {\n",
       "        vertical-align: middle;\n",
       "    }\n",
       "\n",
       "    .dataframe tbody tr th {\n",
       "        vertical-align: top;\n",
       "    }\n",
       "\n",
       "    .dataframe thead th {\n",
       "        text-align: right;\n",
       "    }\n",
       "</style>\n",
       "<table border=\"1\" class=\"dataframe\">\n",
       "  <thead>\n",
       "    <tr style=\"text-align: right;\">\n",
       "      <th></th>\n",
       "      <th>Original</th>\n",
       "      <th>RUS</th>\n",
       "      <th>SMOTE</th>\n",
       "    </tr>\n",
       "  </thead>\n",
       "  <tbody>\n",
       "    <tr>\n",
       "      <th>balanced_accuracy</th>\n",
       "      <td>0.702</td>\n",
       "      <td>0.912</td>\n",
       "      <td>0.955</td>\n",
       "    </tr>\n",
       "    <tr>\n",
       "      <th>f1</th>\n",
       "      <td>0.490</td>\n",
       "      <td>0.909</td>\n",
       "      <td>0.957</td>\n",
       "    </tr>\n",
       "  </tbody>\n",
       "</table>\n",
       "</div>"
      ],
      "text/plain": [
       "                   Original    RUS  SMOTE\n",
       "balanced_accuracy     0.702  0.912  0.955\n",
       "f1                    0.490  0.909  0.957"
      ]
     },
     "metadata": {},
     "output_type": "display_data"
    },
    {
     "data": {
      "image/png": "[encoded data removed]",
      "text/plain": [
       "<Figure size 640x480 with 1 Axes>"
      ]
     },
     "metadata": {},
     "output_type": "display_data"
    }
   ],
   "source": [
    "lr_plot = lr_mean_df.iloc[[1,4]]\n",
    "print(lr_plot.T)\n",
    "display(np.round(lr_plot,3))\n",
    "\n",
    "fig, ax = plt.subplots()\n",
    "\n",
    "lr_plot.plot.bar(rot=0, ax=ax)\n",
    "ax.legend(loc= 'upper left')\n",
    "ax.grid(alpha=0.6)\n",
    "plt.show()"
   ]
  }
 ],
 "metadata": {
  "kernelspec": {
   "display_name": "Python 3",
   "language": "python",
   "name": "python3"
  },
  "language_info": {
   "codemirror_mode": {
    "name": "ipython",
    "version": 3
   },
   "file_extension": ".py",
   "mimetype": "text/x-python",
   "name": "python",
   "nbconvert_exporter": "python",
   "pygments_lexer": "ipython3",
   "version": "3.9.13"
  },
  "orig_nbformat": 4,
  "vscode": {
   "interpreter": {
    "hash": "b6e42a3d7400be7cc1f2873a41239adfc85a71a2b7bd4dd5b538442f24ae4903"
   }
  }
 },
 "nbformat": 4,
 "nbformat_minor": 2
}
